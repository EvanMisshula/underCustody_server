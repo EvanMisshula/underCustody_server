{
 "cells": [
  {
   "cell_type": "code",
   "execution_count": 47,
   "metadata": {},
   "outputs": [],
   "source": [
    "import pandas as pd\n",
    "import urllib.request, json \n",
    "\n",
    "\n",
    "url = 'https://gist.githubusercontent.com/EvanMisshula/019f1f9e4e52c632bf767bda18dd4f55/raw/36223c79d83e8e6606f9df3941f92c6c282133c8/nest.json'\n",
    "\n",
    "with urllib.request.urlopen(url) as url:\n",
    "    data = json.loads(url.read().decode())\n",
    "    \n",
    "df = pd.DataFrame(data)"
   ]
  },
  {
   "cell_type": "code",
   "execution_count": 44,
   "metadata": {},
   "outputs": [],
   "source": [
    "# df['timeServedBinned'] = df['timeServedBinned'].str.replace('-', ' to ')"
   ]
  },
  {
   "cell_type": "code",
   "execution_count": 48,
   "metadata": {},
   "outputs": [],
   "source": [
    "df.to_csv('C:/users/public/underCustody.csv', index=False)"
   ]
  },
  {
   "cell_type": "markdown",
   "metadata": {},
   "source": [
    "### Load Geojson data "
   ]
  },
  {
   "cell_type": "code",
   "execution_count": 1,
   "metadata": {},
   "outputs": [],
   "source": [
    "import pandas as pd\n",
    "import urllib.request, json \n",
    "\n",
    "\n",
    "url = 'https://gist.githubusercontent.com/aulichney/e39466ea9781fb262b190fb943003738/raw/7d6b8df0df7d5dfb3dfb1a46bdea5f133992a5e1/output.geojson'\n",
    "\n",
    "with urllib.request.urlopen(url) as url:\n",
    "    data = json.loads(url.read().decode())\n",
    "    \n",
    "df = pd.DataFrame(data[\"features\"])[['id','type','properties','geometry']]\n",
    "# convert column to the valid json format \n",
    "df['properties'] = df['properties'].apply(lambda x: json.dumps(x))\n",
    "df['geometry'] = df['geometry'].apply(lambda x: json.dumps(x))"
   ]
  },
  {
   "cell_type": "markdown",
   "metadata": {},
   "source": [
    "Then save the data to C:/users/public on windows. "
   ]
  },
  {
   "cell_type": "code",
   "execution_count": 2,
   "metadata": {},
   "outputs": [],
   "source": [
    "df.to_csv('C:/Users/Public/ny_state_map.csv', index=False)"
   ]
  },
  {
   "cell_type": "markdown",
   "metadata": {},
   "source": [
    "Install psycopg2, python API for postgres."
   ]
  },
  {
   "cell_type": "code",
   "execution_count": 16,
   "metadata": {},
   "outputs": [
    {
     "name": "stdout",
     "output_type": "stream",
     "text": [
      "Collecting psycopg2\n",
      "  Downloading psycopg2-2.8.6-cp38-cp38-win_amd64.whl (1.1 MB)\n",
      "Installing collected packages: psycopg2\n",
      "Successfully installed psycopg2-2.8.6\n"
     ]
    }
   ],
   "source": [
    "!pip install psycopg2"
   ]
  },
  {
   "cell_type": "markdown",
   "metadata": {},
   "source": [
    "Setup the connection to the database. I already created a database in my localhost called \"cany\"."
   ]
  },
  {
   "cell_type": "code",
   "execution_count": 88,
   "metadata": {
    "scrolled": true
   },
   "outputs": [],
   "source": [
    "import psycopg2\n",
    "\n",
    "conn = psycopg2.connect(\n",
    "    host=\"localhost\",\n",
    "    database=\"cany\",\n",
    "    user=\"postgres\",\n",
    "    password=\"database1\")"
   ]
  },
  {
   "cell_type": "markdown",
   "metadata": {},
   "source": [
    "Store the geometry and properties data as JSON format in postgres. The JSON format must be valid for this to work."
   ]
  },
  {
   "cell_type": "code",
   "execution_count": 89,
   "metadata": {},
   "outputs": [],
   "source": [
    "cur = conn.cursor()\n",
    "cur.execute(\"DROP TABLE IF EXISTS ny_state_geojson\");\n",
    "cur.execute(\"CREATE TABLE ny_state_geojson (id serial PRIMARY KEY, type varchar, properties json, geometry json)\");\n",
    "cur.execute(\"COPY ny_state_geojson (id, type, properties, geometry) \\\n",
    "                FROM 'C:/users/public/ny_state_map.csv' DELIMITER ',' \\\n",
    "            CSV HEADER;\")\n",
    "# Make the changes to the database persistent\n",
    "conn.commit() \n",
    "# Close communication with the database\n",
    "cur.close()\n",
    "conn.close()"
   ]
  }
 ],
 "metadata": {
  "kernelspec": {
   "display_name": "Python 3",
   "language": "python",
   "name": "python3"
  },
  "language_info": {
   "codemirror_mode": {
    "name": "ipython",
    "version": 3
   },
   "file_extension": ".py",
   "mimetype": "text/x-python",
   "name": "python",
   "nbconvert_exporter": "python",
   "pygments_lexer": "ipython3",
   "version": "3.8.5"
  }
 },
 "nbformat": 4,
 "nbformat_minor": 4
}
